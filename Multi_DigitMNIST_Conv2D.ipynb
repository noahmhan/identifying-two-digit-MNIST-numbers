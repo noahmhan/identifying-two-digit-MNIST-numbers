{
  "nbformat": 4,
  "nbformat_minor": 0,
  "metadata": {
    "colab": {
      "provenance": [],
      "authorship_tag": "ABX9TyMDv2//rFMBQpobmO7vW5vc",
      "include_colab_link": true
    },
    "kernelspec": {
      "name": "python3",
      "display_name": "Python 3"
    },
    "language_info": {
      "name": "python"
    }
  },
  "cells": [
    {
      "cell_type": "markdown",
      "metadata": {
        "id": "view-in-github",
        "colab_type": "text"
      },
      "source": [
        "<a href=\"https://colab.research.google.com/github/noahmhan/identifying-two-digit-MNIST-numbers/blob/main/Multi_DigitMNIST_Conv2D.ipynb\" target=\"_parent\"><img src=\"https://colab.research.google.com/assets/colab-badge.svg\" alt=\"Open In Colab\"/></a>"
      ]
    },
    {
      "cell_type": "code",
      "execution_count": null,
      "metadata": {
        "id": "IIOrGeskepvR"
      },
      "outputs": [],
      "source": [
        "%tensorflow_version 2.x"
      ]
    },
    {
      "cell_type": "code",
      "source": [
        "import tensorflow as tf\n",
        "from tensorflow import keras\n",
        "from keras.layers import Input\n",
        "from keras.models import Model\n",
        "from keras.layers import Dense\n",
        "from keras.layers import Flatten\n",
        "from keras.layers import Conv2D\n",
        "from keras.layers import BatchNormalization\n",
        "from keras.layers import Dropout\n",
        "import random\n",
        "import matplotlib.pyplot as plt\n",
        "import copy\n",
        "import numpy as np\n",
        "print(\"TensorFlow version:\", tf.__version__)"
      ],
      "metadata": {
        "colab": {
          "base_uri": "https://localhost:8080/"
        },
        "id": "Sxvn-wHSgT__",
        "outputId": "959f50e6-5367-447c-89a2-2ba92f0a01a3"
      },
      "execution_count": null,
      "outputs": [
        {
          "output_type": "stream",
          "name": "stdout",
          "text": [
            "TensorFlow version: 2.8.2\n"
          ]
        }
      ]
    },
    {
      "cell_type": "code",
      "source": [
        "def random2DigitMNIST():\n",
        "  (x_train, y_train), (x_test, y_test) = keras.datasets.mnist.load_data()\n",
        "\n",
        "  nX_train = np.array([])\n",
        "  nY_train = np.array([])\n",
        "  for i in range(6000):\n",
        "    r1 = random.randint(0, len(x_train)-1)\n",
        "    d1 = x_train[r1]\n",
        "    y1 = y_train[r1]\n",
        "\n",
        "    r2 = random.randint(0, len(x_train)-1)\n",
        "    d2 = x_train[r2]\n",
        "    y2 = y_train[r2]\n",
        "\n",
        "    nXvalue = np.hstack((d1, d2))\n",
        "    nXvalue = nXvalue[:, ::2]\n",
        "    nYvalue = 10*y1+y2\n",
        "\n",
        "    nX_train = np.append(nX_train, nXvalue)\n",
        "    nY_train = np.append(nY_train, nYvalue)\n",
        "\n",
        "\n",
        "  nX_test = np.array([])\n",
        "  nY_test = np.array([])\n",
        "  for i in range(1000):\n",
        "    r1 = random.randint(0, len(x_test)-1)\n",
        "    d1 = x_test[r1]\n",
        "    y1 = y_test[r1]\n",
        "\n",
        "    r2 = random.randint(0, len(x_test)-1)\n",
        "    d2 = x_test[r2]\n",
        "    y2 = y_test[r2]\n",
        "\n",
        "    nXvalue = np.hstack((d1, d2))\n",
        "    nXvalue = nXvalue[:, ::2]\n",
        "    nYvalue = 10*y1+y2\n",
        "\n",
        "    nX_test = np.append(nX_test, nXvalue)\n",
        "    nY_test = np.append(nY_test, nYvalue)\n",
        "\n",
        "\n",
        "\n",
        "  return nX_train, nY_train, nX_test, nY_test\n",
        "\n",
        "nX_train, nY_train, nX_test, nY_test = random2DigitMNIST()"
      ],
      "metadata": {
        "id": "rV0Im50TgkR9"
      },
      "execution_count": null,
      "outputs": []
    },
    {
      "cell_type": "code",
      "source": [
        "nX_train = nX_train.reshape(6000, 28, 28, 1).astype(\"float32\") / 255\n",
        "nX_test = nX_test.reshape(1000, 28, 28, 1).astype(\"float32\") / 255\n",
        "\n",
        "nY_train = nY_train.astype(\"float32\")\n",
        "nY_test = nY_test.astype(\"float32\")\n",
        "\n",
        "x_shift = copy.deepcopy(nX_test)\n",
        "y_shift = copy.deepcopy(nY_test)\n",
        "\n",
        "for i in range(1000):\n",
        "  rShift = random.randint(-5, 5)\n",
        "  rAxis = random.randint(0, 1)\n",
        "  x_shift[i] = np.roll(x_shift[i], rShift, axis = rAxis)\n",
        "\n"
      ],
      "metadata": {
        "id": "kdPGfZ9MD_ki"
      },
      "execution_count": null,
      "outputs": []
    },
    {
      "cell_type": "code",
      "source": [
        "inputs = Input(shape = (28, 28, 1))\n",
        "layer = Conv2D(16,kernel_size=3,activation='relu')(inputs)\n",
        "layer = BatchNormalization()(layer)\n",
        "layer = Conv2D(16,kernel_size=5,strides=2,padding='same',activation='relu')(layer)\n",
        "layer = BatchNormalization()(layer)\n",
        "layer = Dropout(0.4)(layer)\n",
        "\n",
        "layer = Flatten()(layer)\n",
        "layer = Dense(128, activation=\"relu\")(layer)\n",
        "layer = BatchNormalization()(layer)\n",
        "layer = Dropout(0.4)(layer)\n",
        "outputs = Dense(100)(layer)\n",
        "\n",
        "model = tf.keras.Model(inputs=inputs, outputs=outputs, name=\"mnist_model\")\n",
        "print(model.summary())"
      ],
      "metadata": {
        "colab": {
          "base_uri": "https://localhost:8080/"
        },
        "id": "4k-fJNAHEvCp",
        "outputId": "be86298d-c8d9-4f72-c68f-34c785ef3b1c"
      },
      "execution_count": null,
      "outputs": [
        {
          "output_type": "stream",
          "name": "stdout",
          "text": [
            "Model: \"mnist_model\"\n",
            "_________________________________________________________________\n",
            " Layer (type)                Output Shape              Param #   \n",
            "=================================================================\n",
            " input_1 (InputLayer)        [(None, 28, 28, 1)]       0         \n",
            "                                                                 \n",
            " conv2d (Conv2D)             (None, 26, 26, 16)        160       \n",
            "                                                                 \n",
            " batch_normalization (BatchN  (None, 26, 26, 16)       64        \n",
            " ormalization)                                                   \n",
            "                                                                 \n",
            " conv2d_1 (Conv2D)           (None, 13, 13, 16)        6416      \n",
            "                                                                 \n",
            " batch_normalization_1 (Batc  (None, 13, 13, 16)       64        \n",
            " hNormalization)                                                 \n",
            "                                                                 \n",
            " dropout (Dropout)           (None, 13, 13, 16)        0         \n",
            "                                                                 \n",
            " flatten (Flatten)           (None, 2704)              0         \n",
            "                                                                 \n",
            " dense (Dense)               (None, 128)               346240    \n",
            "                                                                 \n",
            " batch_normalization_2 (Batc  (None, 128)              512       \n",
            " hNormalization)                                                 \n",
            "                                                                 \n",
            " dropout_1 (Dropout)         (None, 128)               0         \n",
            "                                                                 \n",
            " dense_1 (Dense)             (None, 100)               12900     \n",
            "                                                                 \n",
            "=================================================================\n",
            "Total params: 366,356\n",
            "Trainable params: 366,036\n",
            "Non-trainable params: 320\n",
            "_________________________________________________________________\n",
            "None\n"
          ]
        }
      ]
    },
    {
      "cell_type": "code",
      "source": [
        "model.compile(\n",
        "    loss=keras.losses.SparseCategoricalCrossentropy(from_logits=True),\n",
        "    optimizer=keras.optimizers.Adam(),\n",
        "    metrics=[\"accuracy\"],\n",
        ")"
      ],
      "metadata": {
        "id": "-Qx8Wej7Evsf"
      },
      "execution_count": null,
      "outputs": []
    },
    {
      "cell_type": "code",
      "source": [
        "history = model.fit(\n",
        "    nX_train,\n",
        "    nY_train,\n",
        "    batch_size=64,\n",
        "    epochs=30,\n",
        "    validation_split=0.2,\n",
        "    shuffle=True,\n",
        ")"
      ],
      "metadata": {
        "colab": {
          "base_uri": "https://localhost:8080/"
        },
        "id": "8gfuaZ2iEzXX",
        "outputId": "e1f85153-f713-4f6c-8b34-8483f683a141"
      },
      "execution_count": null,
      "outputs": [
        {
          "output_type": "stream",
          "name": "stdout",
          "text": [
            "Epoch 1/30\n",
            "75/75 [==============================] - 6s 71ms/step - loss: 4.0985 - accuracy: 0.1138 - val_loss: 4.2626 - val_accuracy: 0.0908\n",
            "Epoch 2/30\n",
            "75/75 [==============================] - 7s 96ms/step - loss: 2.3799 - accuracy: 0.3927 - val_loss: 3.9657 - val_accuracy: 0.1317\n",
            "Epoch 3/30\n",
            "75/75 [==============================] - 8s 107ms/step - loss: 1.6289 - accuracy: 0.5771 - val_loss: 3.5222 - val_accuracy: 0.2550\n",
            "Epoch 4/30\n",
            "75/75 [==============================] - 5s 70ms/step - loss: 1.1646 - accuracy: 0.7210 - val_loss: 2.9384 - val_accuracy: 0.4858\n",
            "Epoch 5/30\n",
            "75/75 [==============================] - 5s 68ms/step - loss: 0.8556 - accuracy: 0.7996 - val_loss: 2.2183 - val_accuracy: 0.6658\n",
            "Epoch 6/30\n",
            "75/75 [==============================] - 5s 73ms/step - loss: 0.6653 - accuracy: 0.8479 - val_loss: 1.5665 - val_accuracy: 0.7783\n",
            "Epoch 7/30\n",
            "75/75 [==============================] - 6s 73ms/step - loss: 0.5270 - accuracy: 0.8777 - val_loss: 0.9164 - val_accuracy: 0.8467\n",
            "Epoch 8/30\n",
            "75/75 [==============================] - 5s 67ms/step - loss: 0.4136 - accuracy: 0.9127 - val_loss: 0.6916 - val_accuracy: 0.8808\n",
            "Epoch 9/30\n",
            "75/75 [==============================] - 5s 67ms/step - loss: 0.3319 - accuracy: 0.9337 - val_loss: 0.5315 - val_accuracy: 0.8900\n",
            "Epoch 10/30\n",
            "75/75 [==============================] - 5s 68ms/step - loss: 0.2938 - accuracy: 0.9404 - val_loss: 0.4387 - val_accuracy: 0.8983\n",
            "Epoch 11/30\n",
            "75/75 [==============================] - 5s 68ms/step - loss: 0.2434 - accuracy: 0.9479 - val_loss: 0.3828 - val_accuracy: 0.9017\n",
            "Epoch 12/30\n",
            "75/75 [==============================] - 5s 68ms/step - loss: 0.2044 - accuracy: 0.9613 - val_loss: 0.3580 - val_accuracy: 0.9033\n",
            "Epoch 13/30\n",
            "75/75 [==============================] - 5s 68ms/step - loss: 0.1828 - accuracy: 0.9679 - val_loss: 0.3359 - val_accuracy: 0.9092\n",
            "Epoch 14/30\n",
            "75/75 [==============================] - 5s 68ms/step - loss: 0.1562 - accuracy: 0.9710 - val_loss: 0.3256 - val_accuracy: 0.9083\n",
            "Epoch 15/30\n",
            "75/75 [==============================] - 5s 68ms/step - loss: 0.1496 - accuracy: 0.9710 - val_loss: 0.3119 - val_accuracy: 0.9075\n",
            "Epoch 16/30\n",
            "75/75 [==============================] - 5s 68ms/step - loss: 0.1292 - accuracy: 0.9794 - val_loss: 0.2818 - val_accuracy: 0.9192\n",
            "Epoch 17/30\n",
            "75/75 [==============================] - 5s 68ms/step - loss: 0.1138 - accuracy: 0.9808 - val_loss: 0.2917 - val_accuracy: 0.9200\n",
            "Epoch 18/30\n",
            "75/75 [==============================] - 5s 67ms/step - loss: 0.1058 - accuracy: 0.9808 - val_loss: 0.2770 - val_accuracy: 0.9183\n",
            "Epoch 19/30\n",
            "75/75 [==============================] - 5s 68ms/step - loss: 0.1031 - accuracy: 0.9812 - val_loss: 0.2773 - val_accuracy: 0.9142\n",
            "Epoch 20/30\n",
            "75/75 [==============================] - 5s 67ms/step - loss: 0.0884 - accuracy: 0.9829 - val_loss: 0.2672 - val_accuracy: 0.9208\n",
            "Epoch 21/30\n",
            "75/75 [==============================] - 5s 68ms/step - loss: 0.0907 - accuracy: 0.9802 - val_loss: 0.2852 - val_accuracy: 0.9167\n",
            "Epoch 22/30\n",
            "75/75 [==============================] - 5s 73ms/step - loss: 0.0765 - accuracy: 0.9871 - val_loss: 0.2540 - val_accuracy: 0.9283\n",
            "Epoch 23/30\n",
            "75/75 [==============================] - 5s 69ms/step - loss: 0.0733 - accuracy: 0.9854 - val_loss: 0.2551 - val_accuracy: 0.9225\n",
            "Epoch 24/30\n",
            "75/75 [==============================] - 5s 68ms/step - loss: 0.0676 - accuracy: 0.9892 - val_loss: 0.2695 - val_accuracy: 0.9192\n",
            "Epoch 25/30\n",
            "75/75 [==============================] - 5s 68ms/step - loss: 0.0658 - accuracy: 0.9877 - val_loss: 0.2740 - val_accuracy: 0.9158\n",
            "Epoch 26/30\n",
            "75/75 [==============================] - 5s 67ms/step - loss: 0.0579 - accuracy: 0.9879 - val_loss: 0.2537 - val_accuracy: 0.9242\n",
            "Epoch 27/30\n",
            "75/75 [==============================] - 5s 68ms/step - loss: 0.0609 - accuracy: 0.9852 - val_loss: 0.2793 - val_accuracy: 0.9058\n",
            "Epoch 28/30\n",
            "75/75 [==============================] - 5s 68ms/step - loss: 0.0587 - accuracy: 0.9885 - val_loss: 0.2720 - val_accuracy: 0.9158\n",
            "Epoch 29/30\n",
            "75/75 [==============================] - 5s 68ms/step - loss: 0.0503 - accuracy: 0.9915 - val_loss: 0.2627 - val_accuracy: 0.9217\n",
            "Epoch 30/30\n",
            "75/75 [==============================] - 5s 68ms/step - loss: 0.0532 - accuracy: 0.9902 - val_loss: 0.2398 - val_accuracy: 0.9283\n"
          ]
        }
      ]
    },
    {
      "cell_type": "code",
      "source": [
        "results = model.evaluate(nX_test, nY_test,)\n",
        "print(\"test loss, test accuracy:\", results)"
      ],
      "metadata": {
        "colab": {
          "base_uri": "https://localhost:8080/"
        },
        "id": "pF6fNlPzFVuQ",
        "outputId": "e431b051-ca51-4c91-985b-bedb7a859109"
      },
      "execution_count": null,
      "outputs": [
        {
          "output_type": "stream",
          "name": "stdout",
          "text": [
            "32/32 [==============================] - 0s 14ms/step - loss: 0.2410 - accuracy: 0.9270\n",
            "test loss, test accuracy: [0.24104686081409454, 0.9269999861717224]\n"
          ]
        }
      ]
    },
    {
      "cell_type": "code",
      "source": [
        "results = model.evaluate(x_shift, y_shift,)\n",
        "print(\"test loss, test accuracy:\", results)"
      ],
      "metadata": {
        "colab": {
          "base_uri": "https://localhost:8080/"
        },
        "id": "J1mKuSVHPh9l",
        "outputId": "4ed1d908-5c42-458c-fe2f-651edd2a10b3"
      },
      "execution_count": null,
      "outputs": [
        {
          "output_type": "stream",
          "name": "stdout",
          "text": [
            "32/32 [==============================] - 0s 12ms/step - loss: 4.1082 - accuracy: 0.3860\n",
            "test loss, test accuracy: [4.108234882354736, 0.38600000739097595]\n"
          ]
        }
      ]
    },
    {
      "cell_type": "code",
      "source": [
        "i = 2\n",
        "plt.imshow(nX_train[i].reshape(28, 28),cmap='Greys')\n",
        "pred = model.predict(nX_train[i].reshape(-1, 28, 28, 1))\n",
        "print(\"Prediction: \", pred.argmax())\n",
        "label = int(nY_train[i])\n",
        "print(\"Label: \", label)"
      ],
      "metadata": {
        "colab": {
          "base_uri": "https://localhost:8080/",
          "height": 300
        },
        "id": "v41AgrBY9wph",
        "outputId": "d3666a93-01df-48c2-dbeb-8ea03e13332b"
      },
      "execution_count": null,
      "outputs": [
        {
          "output_type": "stream",
          "name": "stdout",
          "text": [
            "Prediction:  97\n",
            "Label:  97\n"
          ]
        },
        {
          "output_type": "display_data",
          "data": {
            "text/plain": [
              "<Figure size 432x288 with 1 Axes>"
            ],
            "image/png": "[encoded data removed]"
          },
          "metadata": {
            "needs_background": "light"
          }
        }
      ]
    }
  ]
}